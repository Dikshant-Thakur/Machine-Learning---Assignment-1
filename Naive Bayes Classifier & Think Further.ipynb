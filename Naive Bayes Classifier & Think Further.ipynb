{
 "cells": [
  {
   "cell_type": "code",
   "execution_count": 3,
   "metadata": {},
   "outputs": [],
   "source": [
    "import pandas as pd\n",
    "import numpy as np\n",
    "from fractions import Fraction\n",
    "from collections import defaultdict      #Generate the value output zero if you didn't mentioned the value to the key in dictionary. \n",
    "\n",
    "\n",
    "\n",
    "#Extract the data from excel file.\n",
    "file_path = 'Data.xlsx'\n",
    "data = pd.read_excel(file_path)\n",
    "num_rows, num_cols = data.shape                 #Get Number of Rows and Columns\n",
    "data_matrix = []                                #Initialize an Empty Matrix:\n",
    "\n",
    "for i in range(num_rows):\n",
    "    row_values = data.iloc[i].tolist()\n",
    "    data_matrix.append(row_values)\n",
    "data_matrix = pd.DataFrame(data_matrix)\n",
    "\n",
    "#Shuffled the data, from the original one\n",
    "data = pd.DataFrame(data_matrix)                                                       #Redundant Code of line, I agree\n",
    "header = data.iloc[0]                                                                  # Removed the first line of the data and stored in the header variable, keep in the mind in the panda lib they extract the rows and convert it into the column because this is their method.          \n",
    "data = data[1:]                                                                        #Updated the data variable by removing the first line\n",
    "shuffled_data = data.sample(frac=1, random_state=42)                                    #Shuffled the data and memorise it by the random state\n",
    "shuffled_data_with_header = pd.concat([header.to_frame().transpose(), shuffled_data])   #Transformed the header into frame , did transpose and put it into the shuffled data, I didn't mentioned the place so by default it took first position\n",
    "shuffled_matrix = shuffled_data_with_header.values                                      #Convert back the data to NumbPy \n",
    "Training_matrix = shuffled_matrix[0:11]                                                 #Created the Train set\n",
    "Test_Matrix     = shuffled_matrix[11:15]                                                #Created the Test Matrix\n"
   ]
  },
  {
   "cell_type": "code",
   "execution_count": 4,
   "metadata": {},
   "outputs": [],
   "source": [
    "#Prior Probability for the hypothesis. \n",
    "\n",
    "matrix_rows, matrix_cols = Training_matrix.shape\n",
    "specific_column = Training_matrix[1:, matrix_cols - 1]               #Defined the area where I have to look, I removed the first row because it take the \"play\", and -1 is to clear the dimension.\n",
    "unique, counts = np.unique(specific_column, return_counts=True)      #Counts the yes or no along with their quantity\n",
    "unique_counts = dict(zip(unique, counts))                            #Store in the dictionary   \n",
    "total_samples = len(specific_column)                                 #Total samples of Yes/No\n",
    "probabilities = {key: Fraction(value, total_samples) for key, value in unique_counts.items()}   #It is giving the prob. but I didn't understand this code\n",
    "values_probabilities = list(probabilities.values())\n",
    "Prob_NO = values_probabilities[0]\n",
    "Prob_YES = values_probabilities[1] "
   ]
  },
  {
   "cell_type": "code",
   "execution_count": 5,
   "metadata": {},
   "outputs": [
    {
     "name": "stdout",
     "output_type": "stream",
     "text": [
      "[('rainy', 'yes', '2/7'), ('rainy', 'no', '1/3'), ('sunny', 'yes', '2/7'), ('sunny', 'no', '2/3'), ('Overcast', 'yes', '3/7'), ('Overcast', 'no', 0), ('mild', 'yes', '3/7'), ('mild', 'no', '2/3'), ('hot', 'yes', '1/7'), ('hot', 'no', '1/3'), ('cool', 'yes', '3/7'), ('cool', 'no', 0), ('high', 'yes', '3/7'), ('high', 'no', '1/1'), ('normal', 'yes', '4/7'), ('normal', 'no', 0), (False, 'yes', '4/7'), (False, 'no', '2/3'), (True, 'yes', '3/7'), (True, 'no', '1/3')]\n"
     ]
    }
   ],
   "source": [
    "#Calculate Likhlihood Probabilities of Training Set\n",
    "def Likelihood_probabilities(Training_matrix, matrix_rows, matrix_cols):\n",
    "    last_col_index = matrix_cols - 1\n",
    "    probabilities = []\n",
    "    \n",
    "    # Extracting the last column values \n",
    "    last_column_values = [row[-1] for row in Training_matrix[1:]]     # In python negative value represents the last value of the matrix or list. \n",
    "    \n",
    "    unique_last_col_values = set(last_column_values)   # Getting unique values in the last column\n",
    "    \n",
    "    for col_index in range(matrix_cols - 1):     # Exclude the last column\n",
    "        col_values = [row[col_index] for row in Training_matrix[1:]]   #  This line extracts the column values for each column. \n",
    "        unique_col_values = set(col_values)    # Makeing the set for unique values of column\n",
    "        \n",
    "        for value in unique_col_values:\n",
    "            for last_value in unique_last_col_values:\n",
    "                total_last_col_value = last_column_values.count(last_value)\n",
    "                count = sum(1 for row in Training_matrix[1:] if row[col_index] == value and row[-1] == last_value)     # Gives you the count whenever the conditions is true. \n",
    "                probability = Fraction(count, total_last_col_value) if total_last_col_value != 0 else 0\n",
    "                probabilities.append((value, last_value, f\"{probability.numerator}/{probability.denominator}\" if probability != 0 else 0))\n",
    "    \n",
    "    return probabilities\n",
    "\n",
    "\n",
    "probabilities = Likelihood_probabilities(Training_matrix, matrix_rows, matrix_cols)\n",
    "print(probabilities)\n",
    "\n",
    "\n",
    "\n"
   ]
  },
  {
   "cell_type": "code",
   "execution_count": 23,
   "metadata": {},
   "outputs": [
    {
     "name": "stdout",
     "output_type": "stream",
     "text": [
      "For condition of Row 11 of the test_matrix: Play? - YES\n",
      "Posterior Probability for NO: 2/45, Posterior Probability for YES: 7/135\n",
      "For condition of Row 12 of the test_matrix: Play? - NO\n",
      "Posterior Probability for NO: 1/45, Posterior Probability for YES: 0\n",
      "For condition of Row 13 of the test_matrix: Play? - YES\n",
      "Posterior Probability for NO: 1/15, Posterior Probability for YES: 7/45\n",
      "For condition of Row 14 of the test_matrix: Play? - YES\n",
      "Posterior Probability for NO: 1/30, Posterior Probability for YES: 14/45\n"
     ]
    }
   ],
   "source": [
    "#Calculate posterior probabilities\n",
    "\n",
    "def calculate_posterior_individual(Test_Matrix, probabilities, Prob_NO, Prob_YES):\n",
    "    results = []\n",
    "    posterior_values = []  # Store posterior probabilities\n",
    "\n",
    "    for row in Test_Matrix:\n",
    "        posterior_NO = Prob_NO\n",
    "        posterior_YES = Prob_YES\n",
    "\n",
    "        likelihoods = []  # Store likelihood probabilities for this row\n",
    "        for i, parameter in enumerate(row[:4]):    #Only consider one row at a time\n",
    "            likelihood = next((prob[2] for prob in probabilities if prob[0] == parameter and prob[1] == 'no'), None)\n",
    "            if likelihood:\n",
    "                likelihood = likelihood.split('/')  # Split likelihood probability\n",
    "                probability = Fraction(int(likelihood[0]), int(likelihood[1]))\n",
    "                likelihoods.append(probability)\n",
    "\n",
    "        # Calculate posterior probabilities for this row without accumulating across rows\n",
    "        for likelihood in likelihoods:\n",
    "            posterior_NO *= likelihood\n",
    "            posterior_YES *= (1 - likelihood)\n",
    "\n",
    "        # Append the individual posterior probabilities for this row\n",
    "        posterior_values.append((posterior_NO, posterior_YES))\n",
    "        prediction = \"YES\" if posterior_YES > posterior_NO else \"NO\"\n",
    "        results.append(prediction)\n",
    "    \n",
    "    return results, posterior_values\n",
    "\n",
    "# Calculate posterior probabilities for each row in Test_Matrix\n",
    "predictions, posterior_probs = calculate_posterior_individual(Test_Matrix, probabilities, Prob_NO, Prob_YES)\n",
    "\n",
    "for i, (prediction, (posterior_NO, posterior_YES)) in enumerate(zip(predictions, posterior_probs)):\n",
    "    print(f\"For condition of Row {i + 11} of the test_matrix: Play? - {prediction}\")\n",
    "    print(f\"Posterior Probability for NO: {posterior_NO}, Posterior Probability for YES: {posterior_YES}\")\n"
   ]
  },
  {
   "cell_type": "code",
   "execution_count": 25,
   "metadata": {},
   "outputs": [
    {
     "name": "stdout",
     "output_type": "stream",
     "text": [
      "For condition of Row 11 of the test_matrix: Play? - YES\n",
      "Posterior Probability for NO: 0.029999999999999995, Posterior Probability for YES: 0.09333333333333334\n",
      "For condition of Row 12 of the test_matrix: Play? - YES\n",
      "Posterior Probability for NO: 0.01333333333333333, Posterior Probability for YES: 0.046666666666666676\n",
      "For condition of Row 13 of the test_matrix: Play? - YES\n",
      "Posterior Probability for NO: 0.049999999999999996, Posterior Probability for YES: 0.23333333333333334\n",
      "For condition of Row 14 of the test_matrix: Play? - YES\n",
      "Posterior Probability for NO: 0.033333333333333326, Posterior Probability for YES: 0.31111111111111117\n"
     ]
    }
   ],
   "source": [
    "#Laplace smoothening \n",
    "def calculate_posterior_individual_with_smoothing(Test_Matrix, probabilities, Prob_NO, Prob_YES, num_possible_values, smoothing_parameter=1):\n",
    "    results = []\n",
    "    posterior_values = []  # Store posterior probabilities\n",
    "\n",
    "    for row in Test_Matrix:\n",
    "        posterior_NO = Prob_NO\n",
    "        posterior_YES = Prob_YES\n",
    "\n",
    "        likelihoods = []  # Store likelihood probabilities for this row\n",
    "        for i, parameter in enumerate(row[:4]):    #Only consider one row at a time\n",
    "            likelihood = next((prob[2] for prob in probabilities if prob[0] == parameter and prob[1] == 'no'), None)\n",
    "            if likelihood:\n",
    "                likelihood = likelihood.split('/')  # Split likelihood probability\n",
    "                probability = Fraction(int(likelihood[0]), int(likelihood[1]))\n",
    "                likelihoods.append(probability)\n",
    "\n",
    "        # Laplace smoothing adjustment for posterior probabilities\n",
    "        for likelihood, v in zip(likelihoods, num_possible_values):\n",
    "            smoothed_prob = (likelihood.numerator + smoothing_parameter) / (likelihood.denominator + (smoothing_parameter * v))\n",
    "            posterior_NO *= smoothed_prob\n",
    "            posterior_YES *= (1 - smoothed_prob)\n",
    "\n",
    "        # Append the individual posterior probabilities for this row\n",
    "        posterior_values.append((posterior_NO, posterior_YES))\n",
    "        prediction = \"YES\" if posterior_YES > posterior_NO else \"NO\"\n",
    "        results.append(prediction)\n",
    "    \n",
    "    return results, posterior_values\n",
    "\n",
    "# Number of possible values for each parameter in Test_Matrix\n",
    "num_possible_values = [3, 3, 2, 2]\n",
    "\n",
    "# Calculate posterior probabilities for each row in Test_Matrix with Laplace smoothing\n",
    "predictions, posterior_probs = calculate_posterior_individual_with_smoothing(Test_Matrix, probabilities, Prob_NO, Prob_YES, num_possible_values)\n",
    "\n",
    "for i, (prediction, (posterior_NO, posterior_YES)) in enumerate(zip(predictions, posterior_probs)):\n",
    "    print(f\"For condition of Row {i + 11} of the test_matrix: Play? - {prediction}\")\n",
    "    print(f\"Posterior Probability for NO: {posterior_NO}, Posterior Probability for YES: {posterior_YES}\")\n"
   ]
  },
  {
   "cell_type": "code",
   "execution_count": 36,
   "metadata": {},
   "outputs": [],
   "source": [
    "#Think Further\n",
    "data = pd.read_csv('Flower_Data.csv', header=None)\n",
    "\n",
    "# Calculate the average of each column (excluding the last column)\n",
    "averages = data.iloc[:, :-1].mean()    #By default it calculates the mean value of all column excludes the last one. \n",
    "\n",
    "# Create a matrix where values > average are set to 1 and others to 0\n",
    "comparison_matrix = (data.iloc[:, :-1] > averages).astype(int)\n",
    "\n",
    "# Get the last column of the original data and attach it to the comparison matrix\n",
    "last_column = data.iloc[:, -1]\n",
    "comparison_matrix['Last Column'] = last_column\n",
    "\n",
    "# Save the comparison matrix (including the last column) to a CSV file\n",
    "comparison_matrix.to_csv('comparison_matrix_with_last_column.csv', index=False)\n"
   ]
  }
 ],
 "metadata": {
  "kernelspec": {
   "display_name": "ML",
   "language": "python",
   "name": "python3"
  },
  "language_info": {
   "codemirror_mode": {
    "name": "ipython",
    "version": 3
   },
   "file_extension": ".py",
   "mimetype": "text/x-python",
   "name": "python",
   "nbconvert_exporter": "python",
   "pygments_lexer": "ipython3",
   "version": "3.12.0"
  }
 },
 "nbformat": 4,
 "nbformat_minor": 2
}

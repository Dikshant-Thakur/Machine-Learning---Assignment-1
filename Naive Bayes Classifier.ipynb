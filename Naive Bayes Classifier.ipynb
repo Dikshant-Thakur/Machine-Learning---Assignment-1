{
 "cells": [
  {
   "cell_type": "code",
   "execution_count": 29,
   "metadata": {},
   "outputs": [],
   "source": [
    "import pandas as pd\n",
    "import numpy as np\n",
    "from fractions import Fraction\n",
    "from collections import defaultdict\n",
    "\n",
    "\n",
    "\n",
    "#Extract the data from excel file.\n",
    "file_path = 'Data.xlsx'\n",
    "data = pd.read_excel(file_path)\n",
    "num_rows, num_cols = data.shape                 #Get Number of Rows and Columns\n",
    "data_matrix = []                                #Initialize an Empty Matrix:\n",
    "\n",
    "for i in range(num_rows):\n",
    "    row_values = data.iloc[i].tolist()\n",
    "    data_matrix.append(row_values)\n",
    "data_matrix = pd.DataFrame(data_matrix)\n"
   ]
  },
  {
   "cell_type": "code",
   "execution_count": 30,
   "metadata": {},
   "outputs": [
    {
     "name": "stdout",
     "output_type": "stream",
     "text": [
      "[['rainy' 'mild' 'normal' False 'yes']\n",
      " ['sunny' 'hot' 'high' True 'no']\n",
      " ['Overcast' 'hot' 'normal' False 'yes']\n",
      " ['rainy' 'cool' 'normal' True 'no']]\n"
     ]
    }
   ],
   "source": [
    "#Shuffled the data, from the original one\n",
    "data = pd.DataFrame(data_matrix)                                                       #Redundant Code of line, I agree\n",
    "header = data.iloc[0]                                                                  # Removed the first line of the data and stored in the header variable, keep in the mind in the panda lib they extract the rows and convert it into the column because this is their method.          \n",
    "data = data[1:]                                                                        #Updated the data variable by removing the first line\n",
    "shuffled_data = data.sample(frac=1, random_state=42)                                    #Shuffled the data and memorise it by the random state\n",
    "shuffled_data_with_header = pd.concat([header.to_frame().transpose(), shuffled_data])   #Transformed the header into frame , did transpose and put it into the shuffled data, I didn't mentioned the place so by default it took first position\n",
    "shuffled_matrix = shuffled_data_with_header.values                                      #Convert back the data to NumbPy \n",
    "Training_matrix = shuffled_matrix[0:11]                                                 #Created the Train set\n",
    "Test_Matrix     = shuffled_matrix[11:15]                                                #Created the Test Matrix\n",
    "print(Test_Matrix)\n"
   ]
  },
  {
   "cell_type": "code",
   "execution_count": 31,
   "metadata": {},
   "outputs": [],
   "source": [
    "matrix_rows, matrix_cols = Training_matrix.shape\n",
    "specific_column = Training_matrix[1:, matrix_cols - 1]               #Defined the area where I have to look, I removed the first row because it take the \"play\", and -1 is to clear the dimension.\n",
    "unique, counts = np.unique(specific_column, return_counts=True)      #Counts the yes or no along with their quantity\n",
    "unique_counts = dict(zip(unique, counts))                            #Store in the dictionary   \n",
    "total_samples = len(specific_column)                                 #Total samples of Yes/No\n",
    "probabilities = {key: Fraction(value, total_samples) for key, value in unique_counts.items()}   #It is giving the prob. but I didn't understand this code\n",
    "values_probabilities = list(probabilities.values())\n",
    "Prob_NO = values_probabilities[0]\n",
    "Prob_YES = values_probabilities[1] "
   ]
  },
  {
   "cell_type": "code",
   "execution_count": 32,
   "metadata": {},
   "outputs": [
    {
     "name": "stdout",
     "output_type": "stream",
     "text": [
      "[('sunny', 'no', '2/3'), ('sunny', 'yes', '2/7'), ('rainy', 'no', '1/3'), ('rainy', 'yes', '2/7'), ('Overcast', 'no', 0), ('Overcast', 'yes', '3/7'), ('hot', 'no', '1/3'), ('hot', 'yes', '1/7'), ('cool', 'no', 0), ('cool', 'yes', '3/7'), ('mild', 'no', '2/3'), ('mild', 'yes', '3/7'), ('normal', 'no', 0), ('normal', 'yes', '4/7'), ('high', 'no', '1/1'), ('high', 'yes', '3/7'), (False, 'no', '2/3'), (False, 'yes', '4/7'), (True, 'no', '1/3'), (True, 'yes', '3/7')]\n"
     ]
    }
   ],
   "source": [
    "#Calculate Likhlihood Probabilities of Training Set\n",
    "def Likelihood_probabilities(Training_matrix, matrix_rows, matrix_cols):\n",
    "    last_col_index = matrix_cols - 1\n",
    "    probabilities = []\n",
    "    \n",
    "    # Extracting the last column values \n",
    "    last_column_values = [row[-1] for row in Training_matrix[1:]]     # In python negative value represents the last value of the matrix or list. \n",
    "    \n",
    "    unique_last_col_values = set(last_column_values)   # Getting unique values in the last column\n",
    "    \n",
    "    for col_index in range(matrix_cols - 1):     # Exclude the last column\n",
    "        col_values = [row[col_index] for row in Training_matrix[1:]]   #  This line extracts the column values for each column. \n",
    "        unique_col_values = set(col_values)    # Makeing the set for unique values of column\n",
    "        \n",
    "        for value in unique_col_values:\n",
    "            for last_value in unique_last_col_values:\n",
    "                total_last_col_value = last_column_values.count(last_value)\n",
    "                count = sum(1 for row in Training_matrix[1:] if row[col_index] == value and row[-1] == last_value)     # Gives you the count whenever the conditions is true. \n",
    "                probability = Fraction(count, total_last_col_value) if total_last_col_value != 0 else 0\n",
    "                probabilities.append((value, last_value, f\"{probability.numerator}/{probability.denominator}\" if probability != 0 else 0))\n",
    "    \n",
    "    return probabilities\n",
    "\n",
    "\n",
    "probabilities = Likelihood_probabilities(Training_matrix, matrix_rows, matrix_cols)\n",
    "print(probabilities)\n",
    "\n",
    "\n",
    "\n"
   ]
  },
  {
   "cell_type": "code",
   "execution_count": 6,
   "metadata": {},
   "outputs": [
    {
     "name": "stdout",
     "output_type": "stream",
     "text": [
      "For condition of Row 11 of the test_matrix: Play? - YES\n",
      "For condition of Row 12 of the test_matrix: Play? - NO\n",
      "For condition of Row 13 of the test_matrix: Play? - YES\n",
      "For condition of Row 14 of the test_matrix: Play? - YES\n"
     ]
    }
   ],
   "source": [
    "#Calculate the posterior probabilites of the constions of test matrix\n",
    "\n",
    "def calculate_posterior(Test_Matrix, probabilities, Prob_NO, Prob_YES):\n",
    "    results = []\n",
    "    for row in Test_Matrix:\n",
    "        posterior_NO = Prob_NO\n",
    "        posterior_YES = Prob_YES\n",
    "\n",
    "        for i, parameter in enumerate(row[:4]):    # It will give the the position and the parameter of the test matrix\n",
    "            likelihood = next((prob[2] for prob in probabilities if prob[0] == parameter and prob[1] == 'no'), None)   #Giving the likelihood probability of \"NO\"\n",
    "\n",
    "            if likelihood:\n",
    "                likelihood = likelihood.split('/')  #Lookign \"/\" to split\n",
    "                probability = Fraction(int(likelihood[0]), int(likelihood[1]))\n",
    "                posterior_NO *= probability\n",
    "                posterior_YES *= (1 - probability)\n",
    "\n",
    "        prediction = \"YES\" if posterior_YES > posterior_NO else \"NO\"\n",
    "        results.append(prediction)\n",
    "    \n",
    "    return results\n",
    "\n",
    "# Calculate posterior probabilities for Test_Matrix\n",
    "predictions = calculate_posterior(Test_Matrix, probabilities, Prob_NO, Prob_YES)\n",
    "for i, prediction in enumerate(predictions):\n",
    "    print(f\"For condition of Row {i + 11} of the test_matrix: Play? - {prediction}\")\n"
   ]
  },
  {
   "cell_type": "code",
   "execution_count": 76,
   "metadata": {},
   "outputs": [
    {
     "name": "stdout",
     "output_type": "stream",
     "text": [
      "For condition of Row 11 of the test_matrix: Play? - YES\n",
      "Posterior Probability for NO: 0.037037037037037035, Posterior Probability for YES: 0.962962962962963\n",
      "For condition of Row 12 of the test_matrix: Play? - YES\n",
      "Posterior Probability for NO: 0.024691358024691357, Posterior Probability for YES: 0.9753086419753086\n",
      "For condition of Row 13 of the test_matrix: Play? - YES\n",
      "Posterior Probability for NO: 0.0392156862745098, Posterior Probability for YES: 0.9607843137254902\n",
      "For condition of Row 14 of the test_matrix: Play? - YES\n",
      "Posterior Probability for NO: 0.030303030303030304, Posterior Probability for YES: 0.9696969696969697\n"
     ]
    }
   ],
   "source": [
    "\n",
    "def calculate_posterior_with_smoothing(Test_Matrix, probabilities, Prob_NO, num_possible_values):\n",
    "    results = []\n",
    "    Laplace_Prob = []\n",
    "    a = 1  # Laplace smoothing parameter\n",
    "\n",
    "    # Calculate the total count of all possible values\n",
    "    v = 1\n",
    "    for val in num_possible_values:\n",
    "        v *= val\n",
    "    \n",
    "    for row in Test_Matrix:\n",
    "        posterior_NO = Prob_NO\n",
    "\n",
    "        likelihoods = []  # Collect likelihoods for all parameters in the row\n",
    "        for i, parameter in enumerate(row[:4]):\n",
    "            likelihood = next((prob[2] for prob in probabilities if prob[0] == parameter and prob[1] == 'no'), None)\n",
    "            if likelihood:\n",
    "                likelihood = likelihood.split('/')\n",
    "                probability = Fraction(int(likelihood[0]), int(likelihood[1]))\n",
    "                likelihoods.append(probability)\n",
    "\n",
    "        # Calculate posterior probabilities for NO without Laplace smoothing adjustment\n",
    "        for temp_prob_fraction in likelihoods:\n",
    "            posterior_NO *= temp_prob_fraction\n",
    "\n",
    "        # Apply Laplace smoothing adjustment to posterior probability for NO\n",
    "        posterior_NO_smoothed = (posterior_NO.numerator + a) / (posterior_NO.denominator + (a * v))\n",
    "        \n",
    "        posterior_YES_smoothed = 1 - posterior_NO_smoothed\n",
    "\n",
    "        result = \"YES\" if posterior_YES_smoothed > posterior_NO_smoothed else \"No\"\n",
    "        \n",
    "        results.append(result)  # Append the result for NO for the row\n",
    "        Laplace_Prob.append([posterior_NO_smoothed,posterior_YES_smoothed])\n",
    "    \n",
    "    return results,Laplace_Prob\n",
    "\n",
    "# Example usage:\n",
    "# You need to define Test_Matrix, probabilities, Prob_NO, num_possible_values before calling the function\n",
    "\n",
    "# Call the function\n",
    "genoa,Prob = calculate_posterior_with_smoothing(Test_Matrix, probabilities, Prob_NO, num_possible_values)\n",
    "\n",
    "# Display results for each row\n",
    "for i, (result, (posterior_NO_smoothed, posterior_YES_smoothed)) in enumerate(zip(genoa, Prob)):\n",
    "    print(f\"For condition of Row {i + 11} of the test_matrix: Play? - {result}\")\n",
    "    print(f\"Posterior Probability for NO: {posterior_NO_smoothed}, Posterior Probability for YES: {posterior_YES_smoothed}\")\n",
    "\n"
   ]
  }
 ],
 "metadata": {
  "kernelspec": {
   "display_name": "ML",
   "language": "python",
   "name": "python3"
  },
  "language_info": {
   "codemirror_mode": {
    "name": "ipython",
    "version": 3
   },
   "file_extension": ".py",
   "mimetype": "text/x-python",
   "name": "python",
   "nbconvert_exporter": "python",
   "pygments_lexer": "ipython3",
   "version": "3.11.6"
  }
 },
 "nbformat": 4,
 "nbformat_minor": 2
}
